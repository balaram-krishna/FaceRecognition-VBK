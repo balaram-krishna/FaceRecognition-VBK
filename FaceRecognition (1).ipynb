{
  "cells": [
    {
      "cell_type": "code",
      "source": [
        "# Downgrade numpy to avoid version conflicts\n",
        "!pip install numpy==1.25.0 --quiet\n",
        "\n",
        "# Install required packages\n",
        "!pip install facenet-pytorch==2.5.2 gradio torch torchvision opencv-python pillow --quiet"
      ],
      "metadata": {
        "colab": {
          "base_uri": "https://localhost:8080/"
        },
        "id": "37JelaEcwkYc",
        "outputId": "00eae47d-4ae7-45e5-abfc-b7831a0fb98b"
      },
      "execution_count": 1,
      "outputs": [
        {
          "output_type": "stream",
          "name": "stdout",
          "text": [
            "\u001b[2K     \u001b[90m━━━━━━━━━━━━━━━━━━━━━━━━━━━━━━━━━━━━━━━━\u001b[0m \u001b[32m10.4/10.4 MB\u001b[0m \u001b[31m65.4 MB/s\u001b[0m eta \u001b[36m0:00:00\u001b[0m\n",
            "\u001b[?25h  Installing build dependencies ... \u001b[?25l\u001b[?25hdone\n",
            "  \u001b[1;31merror\u001b[0m: \u001b[1msubprocess-exited-with-error\u001b[0m\n",
            "  \n",
            "  \u001b[31m×\u001b[0m \u001b[32mGetting requirements to build wheel\u001b[0m did not run successfully.\n",
            "  \u001b[31m│\u001b[0m exit code: \u001b[1;36m1\u001b[0m\n",
            "  \u001b[31m╰─>\u001b[0m See above for output.\n",
            "  \n",
            "  \u001b[1;35mnote\u001b[0m: This error originates from a subprocess, and is likely not a problem with pip.\n",
            "  Getting requirements to build wheel ... \u001b[?25l\u001b[?25herror\n",
            "\u001b[1;31merror\u001b[0m: \u001b[1msubprocess-exited-with-error\u001b[0m\n",
            "\n",
            "\u001b[31m×\u001b[0m \u001b[32mGetting requirements to build wheel\u001b[0m did not run successfully.\n",
            "\u001b[31m│\u001b[0m exit code: \u001b[1;36m1\u001b[0m\n",
            "\u001b[31m╰─>\u001b[0m See above for output.\n",
            "\n",
            "\u001b[1;35mnote\u001b[0m: This error originates from a subprocess, and is likely not a problem with pip.\n",
            "\u001b[2K   \u001b[90m━━━━━━━━━━━━━━━━━━━━━━━━━━━━━━━━━━━━━━━━\u001b[0m \u001b[32m1.9/1.9 MB\u001b[0m \u001b[31m75.8 MB/s\u001b[0m eta \u001b[36m0:00:00\u001b[0m\n",
            "\u001b[?25h"
          ]
        }
      ]
    },
    {
      "cell_type": "code",
      "source": [
        "import os\n",
        "os._exit(00)"
      ],
      "metadata": {
        "id": "0txH_8eJxKzR"
      },
      "execution_count": null,
      "outputs": []
    },
    {
      "cell_type": "code",
      "source": [
        "import numpy as np\n",
        "from PIL import Image\n",
        "import torch\n",
        "import cv2\n",
        "from facenet_pytorch import MTCNN, InceptionResnetV1\n",
        "import gradio as gr\n",
        "\n",
        "# Use GPU if available\n",
        "device = 'cuda' if torch.cuda.is_available() else 'cpu'\n",
        "print(\"Using device:\", device)\n",
        "\n",
        "# Initialize models\n",
        "mtcnn = MTCNN(keep_all=True, device=device, margin=20, post_process=True)\n",
        "resnet = InceptionResnetV1(pretrained='vggface2').eval().to(device)\n",
        "\n",
        "# Face matching function\n",
        "def match_faces(solo_img, group_img, threshold=0.65):\n",
        "    try:\n",
        "        # Convert to RGB\n",
        "        solo_img = solo_img.convert(\"RGB\")\n",
        "        group_img = group_img.convert(\"RGB\")\n",
        "        image_np = np.array(group_img)\n",
        "\n",
        "        # --- Solo face extraction (only FIRST face is used) ---\n",
        "        solo_faces = mtcnn(solo_img)\n",
        "        if solo_faces is None:\n",
        "            return \"No faces detected in solo image.\", group_img\n",
        "\n",
        "        # If multiple faces are detected in solo, pick the first one only\n",
        "        if solo_faces.ndim == 4:\n",
        "            solo_face = solo_faces[0].unsqueeze(0).to(device)\n",
        "        elif solo_faces.ndim == 3:\n",
        "            solo_face = solo_faces.unsqueeze(0).to(device)\n",
        "        else:\n",
        "            return \"Invalid solo face detection.\", group_img\n",
        "\n",
        "        solo_embedding = resnet(solo_face)\n",
        "\n",
        "        # --- Group faces detection ---\n",
        "        group_faces = mtcnn(group_img)\n",
        "        boxes, _ = mtcnn.detect(group_img)\n",
        "\n",
        "        if boxes is None or group_faces is None:\n",
        "            return \"No faces detected in group image.\", group_img\n",
        "\n",
        "        total_faces = len(boxes)\n",
        "        match_found = False\n",
        "\n",
        "        # Compare each group face strictly against the solo face\n",
        "        for i, box in enumerate(boxes):\n",
        "            group_face_tensor = group_faces[i].unsqueeze(0).to(device)\n",
        "            group_emb = resnet(group_face_tensor)\n",
        "\n",
        "            sim_score = torch.nn.functional.cosine_similarity(group_emb, solo_embedding).item()\n",
        "\n",
        "            # Only mark as a match if it passes strict threshold\n",
        "            if sim_score > threshold:\n",
        "                match_found = True\n",
        "                color = (0, 255, 0)  # Green box\n",
        "                label = f\"Match: {sim_score*100:.1f}%\"\n",
        "            else:\n",
        "                # Ignore all other detections (do not label or mark them)\n",
        "                continue\n",
        "\n",
        "            # Draw only matched face\n",
        "            x1, y1, x2, y2 = [int(v) for v in box]\n",
        "            cv2.rectangle(image_np, (x1, y1), (x2, y2), color, 2)\n",
        "            cv2.putText(image_np, label, (x1, y1 - 10),\n",
        "                        cv2.FONT_HERSHEY_SIMPLEX, 0.6, color, 2)\n",
        "\n",
        "        result_text = f\"Total faces in group: {total_faces}\\nMatch found: {'Yes' if match_found else 'No'}\"\n",
        "        return result_text, Image.fromarray(image_np)\n",
        "\n",
        "    except Exception as e:\n",
        "        return f\"Unexpected error: {str(e)}\", group_img\n",
        "\n",
        "\n",
        "# Gradio interface\n",
        "iface = gr.Interface(\n",
        "    fn=match_faces,\n",
        "    inputs=[\n",
        "        gr.Image(type=\"pil\", label=\"Solo Image (only ONE person is used)\"),\n",
        "        gr.Image(type=\"pil\", label=\"Group Image\"),\n",
        "        gr.Slider(minimum=0.5, maximum=0.8, step=0.01, value=0.65, label=\"Match Threshold (Strict)\"),\n",
        "    ],\n",
        "    outputs=[\n",
        "        gr.Textbox(label=\"Result\"),\n",
        "        gr.Image(label=\"Detected Face (only solo person)\"),\n",
        "    ],\n",
        "    title=\"Strict Face Match Detection\",\n",
        "    description=\"Detects ONLY the person in the solo image inside the group image. Ignores all other faces, even if similar.\"\n",
        ")\n",
        "\n",
        "# Launch with public link\n",
        "iface.launch(share=True)"
      ],
      "metadata": {
        "colab": {
          "base_uri": "https://localhost:8080/",
          "height": 660,
          "referenced_widgets": [
            "5482d87a1f8d410ca95d707f19757967",
            "e57178487b354035b40a53075bc2d12a",
            "2dfd750bcea9442cb08d88b4e96c8ae9",
            "070c5ef161af48e6bcadf3e57c670dfd",
            "736d60c7d0b9462399bc31eca2a91eeb",
            "77eac83e1afe4b078772988efb58ce59",
            "bd9cafb0b10445eebd0b6d38323f6ad5",
            "d0e1f970a63947c3bb6c1aaf76c8af27",
            "a2c658acb7984ea0b91ef51334076333",
            "90879cc6a2cb4c66a9e306de072da4c8",
            "496d415b1eb74c4f9ee27d0af3414ba3"
          ]
        },
        "id": "WetADrGOxTVX",
        "outputId": "238a7638-8834-4fde-b9a3-1cd5e85944a0"
      },
      "execution_count": 1,
      "outputs": [
        {
          "output_type": "stream",
          "name": "stdout",
          "text": [
            "Using device: cuda\n"
          ]
        },
        {
          "output_type": "display_data",
          "data": {
            "text/plain": [
              "  0%|          | 0.00/107M [00:00<?, ?B/s]"
            ],
            "application/vnd.jupyter.widget-view+json": {
              "version_major": 2,
              "version_minor": 0,
              "model_id": "5482d87a1f8d410ca95d707f19757967"
            }
          },
          "metadata": {}
        },
        {
          "output_type": "stream",
          "name": "stdout",
          "text": [
            "Colab notebook detected. To show errors in colab notebook, set debug=True in launch()\n",
            "* Running on public URL: https://2e823c348ca3ebd566.gradio.live\n",
            "\n",
            "This share link expires in 1 week. For free permanent hosting and GPU upgrades, run `gradio deploy` from the terminal in the working directory to deploy to Hugging Face Spaces (https://huggingface.co/spaces)\n"
          ]
        },
        {
          "output_type": "display_data",
          "data": {
            "text/plain": [
              "<IPython.core.display.HTML object>"
            ],
            "text/html": [
              "<div><iframe src=\"https://2e823c348ca3ebd566.gradio.live\" width=\"100%\" height=\"500\" allow=\"autoplay; camera; microphone; clipboard-read; clipboard-write;\" frameborder=\"0\" allowfullscreen></iframe></div>"
            ]
          },
          "metadata": {}
        },
        {
          "output_type": "execute_result",
          "data": {
            "text/plain": []
          },
          "metadata": {},
          "execution_count": 1
        }
      ]
    },
    {
      "cell_type": "code",
      "source": [
        "\n",
        "# Gradio interface\n",
        "iface = gr.Interface(\n",
        "    fn=match_faces,\n",
        "    inputs=[\n",
        "        gr.Image(type=\"pil\", label=\"Solo Image (only ONE person is used)\"),\n",
        "        gr.Image(type=\"pil\", label=\"Group Image\"),\n",
        "        gr.Slider(minimum=0.5, maximum=0.8, step=0.01, value=0.65, label=\"Match Threshold (Strict)\"),\n",
        "    ],\n",
        "    outputs=[\n",
        "        gr.Textbox(label=\"Result\"),\n",
        "        gr.Image(label=\"Detected Face (only solo person)\"),\n",
        "    ],\n",
        "    title=\"Strict Face Match Detection\",\n",
        "    description=\"Detects ONLY the person in the solo image inside the group image. Ignores all other faces, even if similar.\"\n",
        ")\n",
        "\n",
        "# Launch with public link\n",
        "iface.launch(share=True)"
      ],
      "metadata": {
        "colab": {
          "base_uri": "https://localhost:8080/",
          "height": 611
        },
        "id": "3HozKza-Hjrq",
        "outputId": "4aaa736d-4bd5-4c76-c672-bc1e696c74b6"
      },
      "execution_count": 2,
      "outputs": [
        {
          "output_type": "stream",
          "name": "stdout",
          "text": [
            "Colab notebook detected. To show errors in colab notebook, set debug=True in launch()\n",
            "* Running on public URL: https://b6111086e8e608ea53.gradio.live\n",
            "\n",
            "This share link expires in 1 week. For free permanent hosting and GPU upgrades, run `gradio deploy` from the terminal in the working directory to deploy to Hugging Face Spaces (https://huggingface.co/spaces)\n"
          ]
        },
        {
          "output_type": "display_data",
          "data": {
            "text/plain": [
              "<IPython.core.display.HTML object>"
            ],
            "text/html": [
              "<div><iframe src=\"https://b6111086e8e608ea53.gradio.live\" width=\"100%\" height=\"500\" allow=\"autoplay; camera; microphone; clipboard-read; clipboard-write;\" frameborder=\"0\" allowfullscreen></iframe></div>"
            ]
          },
          "metadata": {}
        },
        {
          "output_type": "execute_result",
          "data": {
            "text/plain": []
          },
          "metadata": {},
          "execution_count": 2
        }
      ]
    }
  ],
  "metadata": {
    "accelerator": "GPU",
    "colab": {
      "gpuType": "T4",
      "provenance": []
    },
    "kernelspec": {
      "display_name": "Python 3",
      "name": "python3"
    },
    "language_info": {
      "name": "python"
    },
    "widgets": {
      "application/vnd.jupyter.widget-state+json": {
        "5482d87a1f8d410ca95d707f19757967": {
          "model_module": "@jupyter-widgets/controls",
          "model_name": "HBoxModel",
          "model_module_version": "1.5.0",
          "state": {
            "_dom_classes": [],
            "_model_module": "@jupyter-widgets/controls",
            "_model_module_version": "1.5.0",
            "_model_name": "HBoxModel",
            "_view_count": null,
            "_view_module": "@jupyter-widgets/controls",
            "_view_module_version": "1.5.0",
            "_view_name": "HBoxView",
            "box_style": "",
            "children": [
              "IPY_MODEL_e57178487b354035b40a53075bc2d12a",
              "IPY_MODEL_2dfd750bcea9442cb08d88b4e96c8ae9",
              "IPY_MODEL_070c5ef161af48e6bcadf3e57c670dfd"
            ],
            "layout": "IPY_MODEL_736d60c7d0b9462399bc31eca2a91eeb"
          }
        },
        "e57178487b354035b40a53075bc2d12a": {
          "model_module": "@jupyter-widgets/controls",
          "model_name": "HTMLModel",
          "model_module_version": "1.5.0",
          "state": {
            "_dom_classes": [],
            "_model_module": "@jupyter-widgets/controls",
            "_model_module_version": "1.5.0",
            "_model_name": "HTMLModel",
            "_view_count": null,
            "_view_module": "@jupyter-widgets/controls",
            "_view_module_version": "1.5.0",
            "_view_name": "HTMLView",
            "description": "",
            "description_tooltip": null,
            "layout": "IPY_MODEL_77eac83e1afe4b078772988efb58ce59",
            "placeholder": "​",
            "style": "IPY_MODEL_bd9cafb0b10445eebd0b6d38323f6ad5",
            "value": "100%"
          }
        },
        "2dfd750bcea9442cb08d88b4e96c8ae9": {
          "model_module": "@jupyter-widgets/controls",
          "model_name": "FloatProgressModel",
          "model_module_version": "1.5.0",
          "state": {
            "_dom_classes": [],
            "_model_module": "@jupyter-widgets/controls",
            "_model_module_version": "1.5.0",
            "_model_name": "FloatProgressModel",
            "_view_count": null,
            "_view_module": "@jupyter-widgets/controls",
            "_view_module_version": "1.5.0",
            "_view_name": "ProgressView",
            "bar_style": "success",
            "description": "",
            "description_tooltip": null,
            "layout": "IPY_MODEL_d0e1f970a63947c3bb6c1aaf76c8af27",
            "max": 111898327,
            "min": 0,
            "orientation": "horizontal",
            "style": "IPY_MODEL_a2c658acb7984ea0b91ef51334076333",
            "value": 111898327
          }
        },
        "070c5ef161af48e6bcadf3e57c670dfd": {
          "model_module": "@jupyter-widgets/controls",
          "model_name": "HTMLModel",
          "model_module_version": "1.5.0",
          "state": {
            "_dom_classes": [],
            "_model_module": "@jupyter-widgets/controls",
            "_model_module_version": "1.5.0",
            "_model_name": "HTMLModel",
            "_view_count": null,
            "_view_module": "@jupyter-widgets/controls",
            "_view_module_version": "1.5.0",
            "_view_name": "HTMLView",
            "description": "",
            "description_tooltip": null,
            "layout": "IPY_MODEL_90879cc6a2cb4c66a9e306de072da4c8",
            "placeholder": "​",
            "style": "IPY_MODEL_496d415b1eb74c4f9ee27d0af3414ba3",
            "value": " 107M/107M [00:00&lt;00:00, 310MB/s]"
          }
        },
        "736d60c7d0b9462399bc31eca2a91eeb": {
          "model_module": "@jupyter-widgets/base",
          "model_name": "LayoutModel",
          "model_module_version": "1.2.0",
          "state": {
            "_model_module": "@jupyter-widgets/base",
            "_model_module_version": "1.2.0",
            "_model_name": "LayoutModel",
            "_view_count": null,
            "_view_module": "@jupyter-widgets/base",
            "_view_module_version": "1.2.0",
            "_view_name": "LayoutView",
            "align_content": null,
            "align_items": null,
            "align_self": null,
            "border": null,
            "bottom": null,
            "display": null,
            "flex": null,
            "flex_flow": null,
            "grid_area": null,
            "grid_auto_columns": null,
            "grid_auto_flow": null,
            "grid_auto_rows": null,
            "grid_column": null,
            "grid_gap": null,
            "grid_row": null,
            "grid_template_areas": null,
            "grid_template_columns": null,
            "grid_template_rows": null,
            "height": null,
            "justify_content": null,
            "justify_items": null,
            "left": null,
            "margin": null,
            "max_height": null,
            "max_width": null,
            "min_height": null,
            "min_width": null,
            "object_fit": null,
            "object_position": null,
            "order": null,
            "overflow": null,
            "overflow_x": null,
            "overflow_y": null,
            "padding": null,
            "right": null,
            "top": null,
            "visibility": null,
            "width": null
          }
        },
        "77eac83e1afe4b078772988efb58ce59": {
          "model_module": "@jupyter-widgets/base",
          "model_name": "LayoutModel",
          "model_module_version": "1.2.0",
          "state": {
            "_model_module": "@jupyter-widgets/base",
            "_model_module_version": "1.2.0",
            "_model_name": "LayoutModel",
            "_view_count": null,
            "_view_module": "@jupyter-widgets/base",
            "_view_module_version": "1.2.0",
            "_view_name": "LayoutView",
            "align_content": null,
            "align_items": null,
            "align_self": null,
            "border": null,
            "bottom": null,
            "display": null,
            "flex": null,
            "flex_flow": null,
            "grid_area": null,
            "grid_auto_columns": null,
            "grid_auto_flow": null,
            "grid_auto_rows": null,
            "grid_column": null,
            "grid_gap": null,
            "grid_row": null,
            "grid_template_areas": null,
            "grid_template_columns": null,
            "grid_template_rows": null,
            "height": null,
            "justify_content": null,
            "justify_items": null,
            "left": null,
            "margin": null,
            "max_height": null,
            "max_width": null,
            "min_height": null,
            "min_width": null,
            "object_fit": null,
            "object_position": null,
            "order": null,
            "overflow": null,
            "overflow_x": null,
            "overflow_y": null,
            "padding": null,
            "right": null,
            "top": null,
            "visibility": null,
            "width": null
          }
        },
        "bd9cafb0b10445eebd0b6d38323f6ad5": {
          "model_module": "@jupyter-widgets/controls",
          "model_name": "DescriptionStyleModel",
          "model_module_version": "1.5.0",
          "state": {
            "_model_module": "@jupyter-widgets/controls",
            "_model_module_version": "1.5.0",
            "_model_name": "DescriptionStyleModel",
            "_view_count": null,
            "_view_module": "@jupyter-widgets/base",
            "_view_module_version": "1.2.0",
            "_view_name": "StyleView",
            "description_width": ""
          }
        },
        "d0e1f970a63947c3bb6c1aaf76c8af27": {
          "model_module": "@jupyter-widgets/base",
          "model_name": "LayoutModel",
          "model_module_version": "1.2.0",
          "state": {
            "_model_module": "@jupyter-widgets/base",
            "_model_module_version": "1.2.0",
            "_model_name": "LayoutModel",
            "_view_count": null,
            "_view_module": "@jupyter-widgets/base",
            "_view_module_version": "1.2.0",
            "_view_name": "LayoutView",
            "align_content": null,
            "align_items": null,
            "align_self": null,
            "border": null,
            "bottom": null,
            "display": null,
            "flex": null,
            "flex_flow": null,
            "grid_area": null,
            "grid_auto_columns": null,
            "grid_auto_flow": null,
            "grid_auto_rows": null,
            "grid_column": null,
            "grid_gap": null,
            "grid_row": null,
            "grid_template_areas": null,
            "grid_template_columns": null,
            "grid_template_rows": null,
            "height": null,
            "justify_content": null,
            "justify_items": null,
            "left": null,
            "margin": null,
            "max_height": null,
            "max_width": null,
            "min_height": null,
            "min_width": null,
            "object_fit": null,
            "object_position": null,
            "order": null,
            "overflow": null,
            "overflow_x": null,
            "overflow_y": null,
            "padding": null,
            "right": null,
            "top": null,
            "visibility": null,
            "width": null
          }
        },
        "a2c658acb7984ea0b91ef51334076333": {
          "model_module": "@jupyter-widgets/controls",
          "model_name": "ProgressStyleModel",
          "model_module_version": "1.5.0",
          "state": {
            "_model_module": "@jupyter-widgets/controls",
            "_model_module_version": "1.5.0",
            "_model_name": "ProgressStyleModel",
            "_view_count": null,
            "_view_module": "@jupyter-widgets/base",
            "_view_module_version": "1.2.0",
            "_view_name": "StyleView",
            "bar_color": null,
            "description_width": ""
          }
        },
        "90879cc6a2cb4c66a9e306de072da4c8": {
          "model_module": "@jupyter-widgets/base",
          "model_name": "LayoutModel",
          "model_module_version": "1.2.0",
          "state": {
            "_model_module": "@jupyter-widgets/base",
            "_model_module_version": "1.2.0",
            "_model_name": "LayoutModel",
            "_view_count": null,
            "_view_module": "@jupyter-widgets/base",
            "_view_module_version": "1.2.0",
            "_view_name": "LayoutView",
            "align_content": null,
            "align_items": null,
            "align_self": null,
            "border": null,
            "bottom": null,
            "display": null,
            "flex": null,
            "flex_flow": null,
            "grid_area": null,
            "grid_auto_columns": null,
            "grid_auto_flow": null,
            "grid_auto_rows": null,
            "grid_column": null,
            "grid_gap": null,
            "grid_row": null,
            "grid_template_areas": null,
            "grid_template_columns": null,
            "grid_template_rows": null,
            "height": null,
            "justify_content": null,
            "justify_items": null,
            "left": null,
            "margin": null,
            "max_height": null,
            "max_width": null,
            "min_height": null,
            "min_width": null,
            "object_fit": null,
            "object_position": null,
            "order": null,
            "overflow": null,
            "overflow_x": null,
            "overflow_y": null,
            "padding": null,
            "right": null,
            "top": null,
            "visibility": null,
            "width": null
          }
        },
        "496d415b1eb74c4f9ee27d0af3414ba3": {
          "model_module": "@jupyter-widgets/controls",
          "model_name": "DescriptionStyleModel",
          "model_module_version": "1.5.0",
          "state": {
            "_model_module": "@jupyter-widgets/controls",
            "_model_module_version": "1.5.0",
            "_model_name": "DescriptionStyleModel",
            "_view_count": null,
            "_view_module": "@jupyter-widgets/base",
            "_view_module_version": "1.2.0",
            "_view_name": "StyleView",
            "description_width": ""
          }
        }
      }
    }
  },
  "nbformat": 4,
  "nbformat_minor": 0
}